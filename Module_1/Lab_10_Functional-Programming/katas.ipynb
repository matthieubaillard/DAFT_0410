{
 "cells": [
  {
   "cell_type": "markdown",
   "id": "e3f607ab",
   "metadata": {},
   "source": [
    "# Lab 10 | Functional programming"
   ]
  },
  {
   "cell_type": "markdown",
   "id": "2ff32781",
   "metadata": {},
   "source": [
    "## Counting Sheeps\n",
    "Consider an array/list of sheep where some sheep may be missing from their place. We need a function that counts the number of sheep present in the array (true means present).\n",
    "Hint: Don't forget to check for bad values like null/undefined"
   ]
  },
  {
   "cell_type": "code",
   "execution_count": 1,
   "id": "d68c6287",
   "metadata": {},
   "outputs": [
    {
     "data": {
      "text/plain": [
       "17"
      ]
     },
     "execution_count": 1,
     "metadata": {},
     "output_type": "execute_result"
    }
   ],
   "source": [
    "def count_sheeps(sheep):\n",
    "    sheep_count=0\n",
    "    for i in sheep:\n",
    "        if i == True:\n",
    "            sheep_count+=1\n",
    "    return sheep_count\n",
    "\n",
    "\n",
    "sheep = [True,  True,  True,  False,\n",
    "         True,  True,  True,  True ,\n",
    "         True,  False, True,  False,\n",
    "         True,  False, False, True ,\n",
    "         True,  True,  True,  True ,\n",
    "         False, False, True,  True ]\n",
    "\n",
    "\n",
    "count_sheeps(sheep)"
   ]
  },
  {
   "cell_type": "markdown",
   "id": "f6d1bb2c",
   "metadata": {},
   "source": [
    "## Removing Elements\n",
    "DESCRIPTION:\n",
    "Take an array and remove every second element from the array. Always keep the first element and start removing with the next element.\n",
    "\n",
    "Example:\n",
    "[\"Keep\", \"Remove\", \"Keep\", \"Remove\", \"Keep\", ...] --> [\"Keep\", \"Keep\", \"Keep\", ...]\n",
    "\n",
    "Sample Tests:\n",
    "my_list=['Hello', 'Goodbye', 'Hello Again']\n",
    "my_list=[1, 2, 3, 4, 5, 6, 7, 8, 9, 10]\n",
    "my_list=[['Goodbye'], {'Great': 'Job'}]\n",
    "\n",
    "None of the arrays will be empty, so you don't have to worry about that!"
   ]
  },
  {
   "cell_type": "code",
   "execution_count": 31,
   "id": "ccb85d60",
   "metadata": {},
   "outputs": [
    {
     "name": "stdout",
     "output_type": "stream",
     "text": [
      "True\n",
      "True\n",
      "True\n"
     ]
    }
   ],
   "source": [
    "def remove_every_other(my_list):\n",
    "    new_list=[]\n",
    "    for i in range(len(my_list)):\n",
    "        if i%2 ==0:\n",
    "            new_list.append(my_list[i])\n",
    "    return new_list\n",
    "\n",
    "#Katas tests:\n",
    "my_list=['Hello', 'Goodbye', 'Hello Again']\n",
    "print(remove_every_other(my_list) == ['Hello', 'Hello Again'])\n",
    "\n",
    "my_list=[1, 2, 3, 4, 5, 6, 7, 8, 9, 10]\n",
    "print(remove_every_other(my_list) == [1, 3, 5, 7, 9])\n",
    "\n",
    "my_list=[['Goodbye'], {'Great': 'Job'}]\n",
    "print(remove_every_other(my_list) == [['Goodbye']])"
   ]
  },
  {
   "cell_type": "markdown",
   "id": "653576dd",
   "metadata": {},
   "source": [
    "## Convert number to reversed array of digits"
   ]
  },
  {
   "cell_type": "markdown",
   "id": "b0019ed0",
   "metadata": {},
   "source": [
    "https://www.codewars.com/kata/5583090cbe83f4fd8c000051\n",
    "Given a random non-negative number, you have to return the digits of this number within an array in reverse order.\n",
    "\n",
    "Example(Input => Output):\n",
    "35231 => [1,3,2,5,3]\n",
    "0 => [0]"
   ]
  },
  {
   "cell_type": "code",
   "execution_count": 24,
   "id": "de8b28f9",
   "metadata": {},
   "outputs": [
    {
     "name": "stdout",
     "output_type": "stream",
     "text": [
      "True\n",
      "True\n",
      "True\n",
      "True\n",
      "True\n",
      "True\n"
     ]
    }
   ],
   "source": [
    "def digitize(n):    \n",
    "    reverse=[]\n",
    "    for i in str(n)[::-1]: #convert n to a string so that it is iterable\n",
    "        i=int(i) #convert i back to integer, as expected results are lists of integers, and not strings\n",
    "        reverse.append(i)\n",
    "    return reverse\n",
    "\n",
    "#tests\n",
    "\n",
    "print(digitize(35231) == [1,3,2,5,3])\n",
    "print(digitize(0) == [0])\n",
    "print(digitize(23582357) == [7,5,3,2,8,5,3,2])\n",
    "print(digitize(984764738) == [8,3,7,4,6,7,4,8,9])\n",
    "print(digitize(45762893920) == [0,2,9,3,9,8,2,6,7,5,4])\n",
    "print(digitize(548702838394) == [4,9,3,8,3,8,2,0,7,8,4,5])"
   ]
  },
  {
   "cell_type": "markdown",
   "id": "50728b1f",
   "metadata": {},
   "source": [
    "## Square every digit"
   ]
  },
  {
   "cell_type": "markdown",
   "id": "3aefd641",
   "metadata": {},
   "source": [
    "https://www.codewars.com/kata/546e2562b03326a88e000020\n",
    "\n",
    "In this kata, you are asked to square every digit of a number and concatenate them.\n",
    "\n",
    "For example, if we run 9119 through the function, 811181 will come out, because 92 is 81 and 12 is 1. (81-1-1-81)\n",
    "\n",
    "Example #2: An input of 765 will/should return 493625 because 72 is 49, 62 is 36, and 52 is 25. (49-36-25)\n",
    "\n",
    "Note: The function accepts an integer and returns an integer."
   ]
  },
  {
   "cell_type": "code",
   "execution_count": 39,
   "id": "d69b1306",
   "metadata": {},
   "outputs": [
    {
     "name": "stdout",
     "output_type": "stream",
     "text": [
      "True\n",
      "True\n"
     ]
    }
   ],
   "source": [
    "def square_digits(num):\n",
    "    digit_list_result=[]\n",
    "    for i in str(num):\n",
    "        i=int(i)\n",
    "        digit_list_result.append(i**2)\n",
    "    result=''.join(str(x) for x in digit_list_result)\n",
    "    return int(result)\n",
    "\n",
    "# KATAS tests\n",
    "print(square_digits(9119) == 811181)\n",
    "print(square_digits(0) == 0)"
   ]
  }
 ],
 "metadata": {
  "kernelspec": {
   "display_name": "Python 3 (ipykernel)",
   "language": "python",
   "name": "python3"
  },
  "language_info": {
   "codemirror_mode": {
    "name": "ipython",
    "version": 3
   },
   "file_extension": ".py",
   "mimetype": "text/x-python",
   "name": "python",
   "nbconvert_exporter": "python",
   "pygments_lexer": "ipython3",
   "version": "3.9.13"
  }
 },
 "nbformat": 4,
 "nbformat_minor": 5
}

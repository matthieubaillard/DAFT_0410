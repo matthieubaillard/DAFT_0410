{
 "cells": [
  {
   "cell_type": "markdown",
   "metadata": {},
   "source": [
    "# Before your start:\n",
    "- Read the README.md file\n",
    "- Comment as much as you can and use the resources in the README.md file\n",
    "- Happy learning!"
   ]
  },
  {
   "cell_type": "markdown",
   "metadata": {},
   "source": [
    "# Challenge 1 - Combining Strings\n",
    "\n",
    "Combining strings is an important skill to acquire. There are multiple ways of combining strings in Python, as well as combining strings with variables. We will explore this in the first challenge. In the cell below, combine the strings in the list and add spaces between the strings (do not add a space after the last string). Insert a period after the last string."
   ]
  },
  {
   "cell_type": "code",
   "execution_count": null,
   "metadata": {},
   "outputs": [],
   "source": [
    "##### NB: 12/04/23 In progress - TODO: still need to clean the data in challenge 2 output #####"
   ]
  },
  {
   "cell_type": "code",
   "execution_count": 14,
   "metadata": {},
   "outputs": [
    {
     "name": "stdout",
     "output_type": "stream",
     "text": [
      "Durante un tiempo no estuvo segura de si su marido era su marido.\n"
     ]
    }
   ],
   "source": [
    "str_list = ['Durante', 'un', 'tiempo', 'no', 'estuvo', 'segura', 'de', 'si', 'su', 'marido', 'era', 'su', 'marido']\n",
    "combined_string = ' '.join(str_list)+'.'\n",
    "print(combined_string)\n",
    "\n",
    "\n",
    "    \n"
   ]
  },
  {
   "cell_type": "markdown",
   "metadata": {},
   "source": [
    "In the cell below, use the list of strings to create a grocery list. Start the list with the string `Grocery list: ` and include a comma and a space between each item except for the last one. Include a period at the end. Only include foods in the list that start with the letter 'b' and ensure all foods are lower case."
   ]
  },
  {
   "cell_type": "code",
   "execution_count": 78,
   "metadata": {},
   "outputs": [
    {
     "name": "stdout",
     "output_type": "stream",
     "text": [
      "Grocery list: bananas, bread, brownie, broccoli.\n"
     ]
    }
   ],
   "source": [
    "import re\n",
    "food_list = ['Bananas', 'Chocolate', 'bread', 'diapers', 'Ice Cream', 'Brownie Mix', 'broccoli']\n",
    "food_list_string = ', '.join(food_list) # create a string of the list elements, so that we will be able to use the re.findall function\n",
    "#print(food_list_string)\n",
    "b_food = 'B[a-z]+|b[a-z]+'#'\\bB\\w+|b\\w+\\b' # define a pattern as words starting with B or b\n",
    "b_food_list=re.findall(b_food, food_list_string) # look for the pattern in the string\n",
    "#print(b_food_list)\n",
    "b_food_list_string =', '.join(b_food_list)\n",
    "#print(b_food_list_string)\n",
    "grocery_list = 'Grocery list: '+b_food_list_string.lower()+'.'\n",
    "print(grocery_list)"
   ]
  },
  {
   "cell_type": "markdown",
   "metadata": {},
   "source": [
    "In the cell below, write a function that computes the area of a circle using its radius. Compute the area of the circle and insert the radius and the area between the two strings. Make sure to include spaces between the variable and the strings. \n",
    "\n",
    "Note: You can use the techniques we have learned so far or use f-strings. F-strings allow us to embed code inside strings. You can read more about f-strings [here](https://www.python.org/dev/peps/pep-0498/)."
   ]
  },
  {
   "cell_type": "code",
   "execution_count": 10,
   "metadata": {},
   "outputs": [
    {
     "name": "stdout",
     "output_type": "stream",
     "text": [
      "The area of the circle with radius: 4.5 is: 63.61725123519331.\n"
     ]
    }
   ],
   "source": [
    "import math\n",
    "\n",
    "string1 = \"The area of the circle with radius:\"\n",
    "string2  = \"is:\"\n",
    "radius = 4.5\n",
    "\n",
    "def circle_area(x, pi = math.pi):\n",
    "    \"\"\"\n",
    "    This function takes a radius and returns the area of a circle. \n",
    "    We also pass a default value for pi.\n",
    "    \n",
    "    Input: Float (and default value for pi)\n",
    "    Output: Float\n",
    "    \n",
    "    Sample input: 5.0\n",
    "    Sample Output: 78.53981633\n",
    "    \"\"\"\n",
    "    return(math.pi*x**2)\n",
    "    \n",
    "print(string1 + ' ' + str(radius) + ' ' + string2 + ' ' + str(circle_area(radius))+'.')"
   ]
  },
  {
   "cell_type": "markdown",
   "metadata": {},
   "source": [
    "# Challenge 2 - Splitting Strings\n",
    "\n",
    "We have first looked at combining strings into one long string. There are times where we need to do the opposite and split the string into smaller components for further analysis. \n",
    "\n",
    "In the cell below, split the string into a list of strings using the space delimiter. Count the frequency of each word in the string in a dictionary. Strip the periods, line breaks and commas from the text. Make sure to remove empty strings from your dictionary."
   ]
  },
  {
   "cell_type": "code",
   "execution_count": 16,
   "metadata": {},
   "outputs": [
    {
     "name": "stdout",
     "output_type": "stream",
     "text": [
      "['Some', 'say', 'the', 'world', 'will', 'end', 'in', 'fire,\\nSome', 'say', 'in', 'ice.\\nFrom', 'what', 'I’ve', 'tasted', 'of', 'desire\\nI', 'hold', 'with', 'those', 'who', 'favor', 'fire.\\nBut', 'if', 'it', 'had', 'to', 'perish', 'twice,\\nI', 'think', 'I', 'know', 'enough', 'of', 'hate\\nTo', 'say', 'that', 'for', 'destruction', 'ice\\nIs', 'also', 'great\\nAnd', 'would', 'suffice.']\n",
      "{'Some': 1, 'say': 3, 'the': 1, 'world': 1, 'will': 1, 'end': 1, 'in': 2, 'fire,\\nSome': 1, 'ice.\\nFrom': 1, 'what': 1, 'I’ve': 1, 'tasted': 1, 'of': 2, 'desire\\nI': 1, 'hold': 1, 'with': 1, 'those': 1, 'who': 1, 'favor': 1, 'fire.\\nBut': 1, 'if': 1, 'it': 1, 'had': 1, 'to': 1, 'perish': 1, 'twice,\\nI': 1, 'think': 1, 'I': 1, 'know': 1, 'enough': 1, 'hate\\nTo': 1, 'that': 1, 'for': 1, 'destruction': 1, 'ice\\nIs': 1, 'also': 1, 'great\\nAnd': 1, 'would': 1, 'suffice.': 1}\n"
     ]
    }
   ],
   "source": [
    "poem = \"\"\"Some say the world will end in fire,\n",
    "Some say in ice.\n",
    "From what I’ve tasted of desire\n",
    "I hold with those who favor fire.\n",
    "But if it had to perish twice,\n",
    "I think I know enough of hate\n",
    "To say that for destruction ice\n",
    "Is also great\n",
    "And would suffice.\"\"\"\n",
    "\n",
    "poem_clean =\n",
    "\n",
    "words=poem.split(' ')\n",
    "print(words)\n",
    "word_dict = {}\n",
    "for word in words:\n",
    "    x=words.count(word)\n",
    "    word_dict[word]=x\n",
    "print(word_dict)\n"
   ]
  },
  {
   "cell_type": "markdown",
   "metadata": {},
   "source": [
    "In the cell below, find all the words that appear in the text and do not appear in the blacklist. You must parse the string but can choose any data structure you wish for the words that do not appear in the blacklist. Remove all non letter characters and convert all words to lower case."
   ]
  },
  {
   "cell_type": "code",
   "execution_count": 22,
   "metadata": {},
   "outputs": [
    {
     "name": "stdout",
     "output_type": "stream",
     "text": [
      "i was angry with my friend; \n",
      "i told my wrath, my wrath did end.\n",
      "i was angry with my foe: \n",
      "i told it not, my wrath did grow. \n",
      "\n",
      "and i waterd it in fears,\n",
      "night & morning with my tears: \n",
      "and i sunned it with smiles,\n",
      "and with soft deceitful wiles. \n",
      "\n",
      "and it grew both day and night. \n",
      "till it bore an apple bright. \n",
      "and my foe beheld it shine,\n",
      "and he knew that it was mine. \n",
      "\n",
      "and into my garden stole, \n",
      "when the night had veild the pole; \n",
      "in the morning glad i see; \n",
      "my foe outstretched beneath the tree.\n",
      "['I', 'was', 'angry', 'with', 'my', 'friend;', '\\nI', 'told', 'my', 'wrath,', 'my', 'wrath', 'did', 'end.\\nI', 'was', 'angry', 'with', 'my', 'foe:', '\\nI', 'told', 'not,', 'my', 'wrath', 'did', 'grow.', '\\n\\nAnd', 'I', 'waterd', 'fears,\\nNight', '&', 'morning', 'with', 'my', 'tears:', '\\nAnd', 'I', 'sunned', 'with', 'smiles,\\nAnd', 'with', 'soft', 'deceitful', 'wiles.', '\\n\\nAnd', 'grew', 'both', 'day', 'night.', '\\nTill', 'bore', 'apple', 'bright.', '\\nAnd', 'my', 'foe', 'beheld', 'shine,\\nAnd', 'he', 'knew', 'that', 'was', 'mine.', '\\n\\nAnd', 'into', 'my', 'garden', 'stole,', '\\nWhen', 'night', 'had', 'veild', 'pole;', '\\nIn', 'morning', 'glad', 'I', 'see;', '\\nMy', 'foe', 'outstretched', 'beneath', 'tree.']\n"
     ]
    }
   ],
   "source": [
    "blacklist = ['and', 'as', 'an', 'a', 'the', 'in', 'it']\n",
    "\n",
    "poem = \"\"\"I was angry with my friend; \n",
    "I told my wrath, my wrath did end.\n",
    "I was angry with my foe: \n",
    "I told it not, my wrath did grow. \n",
    "\n",
    "And I waterd it in fears,\n",
    "Night & morning with my tears: \n",
    "And I sunned it with smiles,\n",
    "And with soft deceitful wiles. \n",
    "\n",
    "And it grew both day and night. \n",
    "Till it bore an apple bright. \n",
    "And my foe beheld it shine,\n",
    "And he knew that it was mine. \n",
    "\n",
    "And into my garden stole, \n",
    "When the night had veild the pole; \n",
    "In the morning glad I see; \n",
    "My foe outstretched beneath the tree.\"\"\"\n",
    "\n",
    "# Your code here:\n",
    "\n",
    "lowercase_poem = poem.lower()\n",
    "print(lowercase_poem)\n",
    "\n",
    "words=poem.split(' ')\n",
    "word_list = []\n",
    "\n",
    "for word in words:\n",
    "    if word not in blacklist:\n",
    "        word_list.append(word)\n",
    "print(word_list)"
   ]
  },
  {
   "cell_type": "code",
   "execution_count": null,
   "metadata": {},
   "outputs": [],
   "source": []
  }
 ],
 "metadata": {
  "kernelspec": {
   "display_name": "Python 3 (ipykernel)",
   "language": "python",
   "name": "python3"
  },
  "language_info": {
   "codemirror_mode": {
    "name": "ipython",
    "version": 3
   },
   "file_extension": ".py",
   "mimetype": "text/x-python",
   "name": "python",
   "nbconvert_exporter": "python",
   "pygments_lexer": "ipython3",
   "version": "3.9.13"
  },
  "varInspector": {
   "cols": {
    "lenName": 16,
    "lenType": 16,
    "lenVar": 40
   },
   "kernels_config": {
    "python": {
     "delete_cmd_postfix": "",
     "delete_cmd_prefix": "del ",
     "library": "var_list.py",
     "varRefreshCmd": "print(var_dic_list())"
    },
    "r": {
     "delete_cmd_postfix": ") ",
     "delete_cmd_prefix": "rm(",
     "library": "var_list.r",
     "varRefreshCmd": "cat(var_dic_list()) "
    }
   },
   "types_to_exclude": [
    "module",
    "function",
    "builtin_function_or_method",
    "instance",
    "_Feature"
   ],
   "window_display": false
  }
 },
 "nbformat": 4,
 "nbformat_minor": 2
}

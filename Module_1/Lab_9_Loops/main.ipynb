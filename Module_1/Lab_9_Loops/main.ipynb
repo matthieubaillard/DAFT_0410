{
 "cells": [
  {
   "cell_type": "markdown",
   "metadata": {},
   "source": [
    "# Lab 9 - Loops\n",
    "\n",
    "Complete the following set of exercises to solidify your knowledge for Loops."
   ]
  },
  {
   "cell_type": "markdown",
   "metadata": {},
   "source": [
    "#### 1. Print first 10 natural numbers using while loop"
   ]
  },
  {
   "cell_type": "code",
   "execution_count": 1,
   "metadata": {},
   "outputs": [
    {
     "name": "stdout",
     "output_type": "stream",
     "text": [
      "1\n",
      "2\n",
      "3\n",
      "4\n",
      "5\n",
      "6\n",
      "7\n",
      "8\n",
      "9\n",
      "10\n"
     ]
    }
   ],
   "source": [
    "x=1\n",
    "while x <=10:\n",
    "    print(x)\n",
    "    x+=1\n"
   ]
  },
  {
   "cell_type": "markdown",
   "metadata": {},
   "source": [
    "#### 2. Display numbers from a list using loop\n",
    "Write a program to display only those numbers from a list that satisfy the following conditions\n",
    "\n",
    "The number must be divisible by five\n",
    "\n",
    "If the number is greater than 150, then skip it and move to the next number\n",
    "\n",
    "If the number is greater than 500, then stop the loop\n",
    "\n",
    "numbers = [12, 75, 150, 180, 145, 525, 50]"
   ]
  },
  {
   "cell_type": "code",
   "execution_count": 2,
   "metadata": {},
   "outputs": [
    {
     "name": "stdout",
     "output_type": "stream",
     "text": [
      "75\n",
      "150\n",
      "145\n",
      "50\n"
     ]
    }
   ],
   "source": [
    "numbers = [12, 75, 150, 180, 145, 525, 50]\n",
    "for num in numbers:\n",
    "    if num %5 ==0:\n",
    "        if num > 150:\n",
    "            continue\n",
    "        if num > 500:\n",
    "            break\n",
    "        print(num)"
   ]
  },
  {
   "cell_type": "markdown",
   "metadata": {},
   "source": [
    "#### 3.Write a Python program to check the validity of a password (input from users).\n",
    "\n",
    "Validation :\n",
    "\n",
    "At least 1 letter between [a-z] and 1 letter between [A-Z].\n",
    "\n",
    "At least 1 number between [0-9].\n",
    "\n",
    "At least 1 character from [$#@].\n",
    "\n",
    "Minimum length 6 characters.\n",
    "\n",
    "Maximum length 16 characters."
   ]
  },
  {
   "cell_type": "code",
   "execution_count": 3,
   "metadata": {},
   "outputs": [
    {
     "name": "stdout",
     "output_type": "stream",
     "text": [
      "Password must be minimum 6 characters, max 16, have at least 1 letter between [a-z], 1 letter between [A-Z], 1 character, and one of the following characters: $#@ \n",
      "\n",
      "Please enter a new passworda9K$\n",
      "Entered password is invalid. \n",
      "\n",
      "Password must be minimum 6 characters, max 16, have at least 1 letter between [a-z], 1 letter between [A-Z], 1 character, and one of the following characters: $#@ \n",
      "\n",
      "Please enter a new passwordahskjagdajgHJHKGG909090909#\n",
      "Password must be minimum 6 characters, max 16, have at least 1 letter between [a-z], 1 letter between [A-Z], 1 character, and one of the following characters: $#@ \n",
      "\n",
      "Please enter a new passwordaklAKS#@\n",
      "Entered password is invalid. \n",
      "\n",
      "Password must be minimum 6 characters, max 16, have at least 1 letter between [a-z], 1 letter between [A-Z], 1 character, and one of the following characters: $#@ \n",
      "\n",
      "Please enter a new passwordAGUGKHGG9090#\n",
      "Password must be minimum 6 characters, max 16, have at least 1 letter between [a-z], 1 letter between [A-Z], 1 character, and one of the following characters: $#@ \n",
      "\n",
      "Please enter a new passwordakl890AHFJH\n",
      "Entered password is invalid. \n",
      "\n",
      "Password must be minimum 6 characters, max 16, have at least 1 letter between [a-z], 1 letter between [A-Z], 1 character, and one of the following characters: $#@ \n",
      "\n",
      "Please enter a new passwordamh909AGHJG#\n",
      "Password must be minimum 6 characters, max 16, have at least 1 letter between [a-z], 1 letter between [A-Z], 1 character, and one of the following characters: $#@ \n",
      "\n",
      "Please enter a new password09khjkhHJKHKJH#\n",
      "Your new password has been set.\n"
     ]
    }
   ],
   "source": [
    "import re\n",
    "\n",
    "def password_input():\n",
    "    print('Password must be minimum 6 characters, max 16, have at least 1 letter between [a-z], 1 letter between [A-Z], 1 character, and one of the following characters: $#@ \\n')\n",
    "    global password\n",
    "    password = (input('Please enter a new password'))\n",
    "    \n",
    "def validation():\n",
    "    if len(password) < 6:\n",
    "        return False\n",
    "    elif len(password) > 16:\n",
    "        return False\n",
    "    elif not re.search(\"[0-9]\", password):\n",
    "        return False\n",
    "    elif not re.search(\"[a-z]\", password):    \n",
    "        return False\n",
    "    elif not re.search(\"[A-Z]\", password):\n",
    "        return False\n",
    "    elif not re.search(\"[$#@]\", password):\n",
    "        return False\n",
    "    else:\n",
    "        return True\n",
    "    \n",
    "while True:\n",
    "    password_input()\n",
    "    if validation():\n",
    "        print('Your new password has been set.')\n",
    "        break\n",
    "    else:\n",
    "        print('Entered password is invalid. \\n')\n",
    "        password_input()\n"
   ]
  },
  {
   "cell_type": "markdown",
   "metadata": {},
   "source": [
    "#### 4. Break the loop when x is 6, and see what happens with the else block"
   ]
  },
  {
   "cell_type": "code",
   "execution_count": 4,
   "metadata": {},
   "outputs": [
    {
     "name": "stdout",
     "output_type": "stream",
     "text": [
      "0\n",
      "1\n",
      "2\n",
      "3\n",
      "4\n",
      "5\n"
     ]
    }
   ],
   "source": [
    "for x in range(10):\n",
    "    if x == 6:\n",
    "        break\n",
    "    else:\n",
    "        print(x)\n",
    "#The else block is not executed once the condition that breaks the loop is met"
   ]
  },
  {
   "cell_type": "markdown",
   "metadata": {},
   "source": [
    "#### 5. Write a Python program to calculate the sum and average of n integer numbers (input from the user). Input 0 to finish.\n"
   ]
  },
  {
   "cell_type": "code",
   "execution_count": 1,
   "metadata": {},
   "outputs": [
    {
     "name": "stdout",
     "output_type": "stream",
     "text": [
      "Please enter an integer number or press 0 to finish: 89P7\n",
      "Invalid input. Please enter an integer or press 0 to finish.\n",
      "Please enter an integer number or press 0 to finish: 9897\n",
      "Please enter an integer number or press 0 to finish: 98\n",
      "Please enter an integer number or press 0 to finish: 9\n",
      "Please enter an integer number or press 0 to finish: 90\n",
      "Please enter an integer number or press 0 to finish: 0\n",
      "Sum of numbers =  10094\n",
      "Average of numbers =  2523.5\n"
     ]
    }
   ],
   "source": [
    "import statistics as stat\n",
    "\n",
    "num_list=[]\n",
    "\n",
    "x = None\n",
    "while x != 0:\n",
    "    try:\n",
    "        x=int(input('Please enter an integer number or press 0 to finish: '))\n",
    "        if x != 0:\n",
    "            num_list.append(x)\n",
    "    except ValueError:\n",
    "        print('Invalid input. Please enter an integer or press 0 to finish.')\n",
    "\n",
    "if len(num_list) == 0: #to handle error in case the user inputs 0 as the first value\n",
    "    print('Sum = 0')\n",
    "    print('Average = 0')\n",
    "\n",
    "else:\n",
    "    print('Sum of numbers = ',sum(num_list))\n",
    "    print('Average of numbers = ',stat.mean(num_list))\n",
    "\n",
    "    "
   ]
  }
 ],
 "metadata": {
  "kernelspec": {
   "display_name": "Python 3 (ipykernel)",
   "language": "python",
   "name": "python3"
  },
  "language_info": {
   "codemirror_mode": {
    "name": "ipython",
    "version": 3
   },
   "file_extension": ".py",
   "mimetype": "text/x-python",
   "name": "python",
   "nbconvert_exporter": "python",
   "pygments_lexer": "ipython3",
   "version": "3.9.13"
  }
 },
 "nbformat": 4,
 "nbformat_minor": 2
}
